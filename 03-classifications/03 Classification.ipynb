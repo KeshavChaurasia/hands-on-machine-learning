{
 "cells": [
  {
   "cell_type": "markdown",
   "id": "5e818ce6-0db7-4f7d-9bf0-b85716167891",
   "metadata": {},
   "source": [
    "# Classification"
   ]
  },
  {
   "cell_type": "code",
   "execution_count": 1,
   "id": "d12f790f-c862-4c9d-8059-0e5e3d6d2050",
   "metadata": {},
   "outputs": [],
   "source": [
    "# in this chapter I will be using MNIST dataset. It has 70,000 small images of digits handwritten by high school student and employees. \n",
    "# Each image is labelled "
   ]
  },
  {
   "cell_type": "code",
   "execution_count": 2,
   "id": "211173c9-4c56-4c0a-9077-6c3c393c1f70",
   "metadata": {},
   "outputs": [
    {
     "data": {
      "text/plain": [
       "dict_keys(['data', 'target', 'frame', 'categories', 'feature_names', 'target_names', 'DESCR', 'details', 'url'])"
      ]
     },
     "execution_count": 2,
     "metadata": {},
     "output_type": "execute_result"
    }
   ],
   "source": [
    "from sklearn.datasets import fetch_openml\n",
    "mnist = fetch_openml('mnist_784', version=1) # fetch mnist dataset\n",
    "mnist.keys()"
   ]
  },
  {
   "cell_type": "code",
   "execution_count": 3,
   "id": "3e53de58-328e-4823-ae20-2c024d5c964f",
   "metadata": {},
   "outputs": [],
   "source": [
    "# let's look at the data\n",
    "X, y = mnist[\"data\"], mnist[\"target\"]"
   ]
  },
  {
   "cell_type": "code",
   "execution_count": 4,
   "id": "cf2275a1-3dcb-4bba-aa5a-552f3cd5e8f7",
   "metadata": {},
   "outputs": [
    {
     "name": "stdout",
     "output_type": "stream",
     "text": [
      "X shape (70000, 784)\n",
      "y shape (70000,)\n"
     ]
    }
   ],
   "source": [
    "print(\"X shape\", X.shape)\n",
    "print(\"y shape\", y.shape)"
   ]
  },
  {
   "cell_type": "code",
   "execution_count": 12,
   "id": "6f10771d-69f8-4d65-996a-b72979f66131",
   "metadata": {},
   "outputs": [
    {
     "data": {
      "image/png": "[encoded data removed]",
      "text/plain": [
       "<Figure size 432x288 with 1 Axes>"
      ]
     },
     "metadata": {
      "needs_background": "light"
     },
     "output_type": "display_data"
    }
   ],
   "source": [
    "# there are 70000 images and each image has 784 features. This is because each image of 28 by 28 pixels is flattend into single dimension.\n",
    "# The image is represented by one channel hence one pixel has value ranging from 0 to 255.\n",
    "# we can display it using Matplotlibs imshow() function\n",
    "\n",
    "import matplotlib.pyplot as plt\n",
    "import matplotlib as mpl\n",
    "\n",
    "some_digit = X.iloc[5].values\n",
    "some_digit_image = some_digit.reshape(28,28)\n",
    "\n",
    "plt.imshow(some_digit_image, cmap='binary')\n",
    "plt.axis('off')\n",
    "plt.show()"
   ]
  },
  {
   "cell_type": "code",
   "execution_count": 20,
   "id": "ca08450c-c914-46f4-a2da-e1e7c81536a0",
   "metadata": {},
   "outputs": [
    {
     "name": "stdout",
     "output_type": "stream",
     "text": [
      "2\n",
      "<class 'str'>\n"
     ]
    }
   ],
   "source": [
    "# let's look what the label is\n",
    "print(y[5])\n",
    "print(type(y[5])) # the label is string. let's convert it to number"
   ]
  },
  {
   "cell_type": "code",
   "execution_count": 22,
   "id": "32717029-9390-421c-bb4a-be5c8e34d064",
   "metadata": {},
   "outputs": [],
   "source": [
    "# import numpy\n",
    "import numpy as np\n",
    "y = y.astype(np.uint8) # convert string value to unsigned integer of 8 bit"
   ]
  },
  {
   "cell_type": "code",
   "execution_count": 34,
   "id": "01128847-c324-46c0-90fa-4a4ffd7dd16f",
   "metadata": {},
   "outputs": [
    {
     "data": {
      "image/png": "[encoded data removed]",
      "text/plain": [
       "<Figure size 1080x1080 with 25 Axes>"
      ]
     },
     "metadata": {
      "needs_background": "light"
     },
     "output_type": "display_data"
    }
   ],
   "source": [
    "# show 25 image of mnist data set\n",
    "plt.figure(figsize=(15,15))\n",
    "for i in range(25):    \n",
    "    plt.subplot(5,5,i+1)    \n",
    "    plt.axis(\"off\")\n",
    "    plt.grid(False)    \n",
    "    plt.imshow(X.iloc[i].values.reshape(28,28), cmap=plt.cm.binary)    \n",
    "    plt.xlabel(y.iloc[i])\n",
    "\n",
    "plt.show()"
   ]
  },
  {
   "cell_type": "code",
   "execution_count": 35,
   "id": "6ddd886a-75f6-4406-ace4-2dce6df7e5b2",
   "metadata": {},
   "outputs": [],
   "source": [
    "# split train test \n",
    "X = X.values\n",
    "y = y.values\n",
    "X_train, X_test, y_train, y_test = X[:60000], X[60000:],y[:60000], y[60000:]"
   ]
  },
  {
   "cell_type": "markdown",
   "id": "6615d726-be12-43ef-b02c-4cf2c1c96e0e",
   "metadata": {},
   "source": [
    "## Binary Classification"
   ]
  },
  {
   "cell_type": "code",
   "execution_count": 36,
   "id": "2e51f039-98ce-4f86-b350-3433d26c9ae8",
   "metadata": {},
   "outputs": [],
   "source": [
    "# training a binary classifier\n",
    "# let's simply the problem and train to identify only one digit. This 5-detector\n",
    "y_train_5 = (y_train==5) # true for all 5 and false for all other digits\n",
    "y_test_5 = (y_test==5)"
   ]
  },
  {
   "cell_type": "code",
   "execution_count": 37,
   "id": "c1c3113b-d996-41dd-90ad-3904c1f49e2a",
   "metadata": {},
   "outputs": [
    {
     "data": {
      "text/plain": [
       "SGDClassifier(random_state=12)"
      ]
     },
     "execution_count": 37,
     "metadata": {},
     "output_type": "execute_result"
    }
   ],
   "source": [
    "# let's pick a classifier and train it\n",
    "# a good place is to start with a stochastic gradient descennt\n",
    "\n",
    "from sklearn.linear_model import SGDClassifier\n",
    "sgd_clf = SGDClassifier(random_state=12)\n",
    "sgd_clf.fit(X_train, y_train_5)"
   ]
  },
  {
   "cell_type": "code",
   "execution_count": 39,
   "id": "bd27a1dc-81ee-413c-8f15-85c5e4d760ab",
   "metadata": {},
   "outputs": [
    {
     "data": {
      "text/plain": [
       "array([False])"
      ]
     },
     "execution_count": 39,
     "metadata": {},
     "output_type": "execute_result"
    }
   ],
   "source": [
    "# now we can use it to detect image of the number 5\n",
    "sgd_clf.predict([some_digit])"
   ]
  },
  {
   "cell_type": "markdown",
   "id": "a69f0443-5187-4a0e-bdb7-0ee33519c722",
   "metadata": {},
   "source": [
    "#### Performance Measure "
   ]
  },
  {
   "cell_type": "code",
   "execution_count": 40,
   "id": "e9dc855d-8c05-45ec-ae63-f87913810612",
   "metadata": {},
   "outputs": [],
   "source": [
    "# implementing cross validation"
   ]
  },
  {
   "cell_type": "code",
   "execution_count": 42,
   "id": "514ef00f-ef3e-47b8-b8ab-d89e615b64c8",
   "metadata": {},
   "outputs": [
    {
     "name": "stdout",
     "output_type": "stream",
     "text": [
      "0.91315\n",
      "0.9605\n",
      "0.92475\n"
     ]
    }
   ],
   "source": [
    "from sklearn.model_selection import StratifiedKFold\n",
    "from sklearn.base import clone\n",
    "\n",
    "skfolds = StratifiedKFold(n_splits=3, shuffle=True,random_state=12)\n",
    "\n",
    "for train_index, test_index in skfolds.split(X_train,y_train_5):\n",
    "    clone_clf = clone(sgd_clf)\n",
    "    X_train_folds = X_train[train_index]\n",
    "    y_train_folds = y_train_5[train_index]\n",
    "    \n",
    "    X_test_fold = X_train[test_index]\n",
    "    y_test_fold = y_train_5[test_index]\n",
    "    \n",
    "    clone_clf.fit(X_train_folds, y_train_folds)\n",
    "    y_pred = clone_clf.predict(X_test_fold)\n",
    "    n_correct = sum(y_pred==y_test_fold)\n",
    "    print(n_correct/len(y_pred)) # accuracy in eacy K Fold"
   ]
  },
  {
   "cell_type": "code",
   "execution_count": 43,
   "id": "a420bc49-d596-4636-bc4c-ab8d9b9a4145",
   "metadata": {},
   "outputs": [
    {
     "data": {
      "text/plain": [
       "array([0.9659 , 0.96095, 0.9645 ])"
      ]
     },
     "execution_count": 43,
     "metadata": {},
     "output_type": "execute_result"
    }
   ],
   "source": [
    "# let's use cross_val_score() function to evaluate our SGD Classifier\n",
    "from sklearn.model_selection import cross_val_score\n",
    "cross_val_score(sgd_clf, X_train,y_train_5, cv=3, scoring='accuracy')"
   ]
  },
  {
   "cell_type": "code",
   "execution_count": 44,
   "id": "dc1d909b-b297-4ea7-af58-86a254edef2e",
   "metadata": {},
   "outputs": [],
   "source": [
    "from sklearn.base import BaseEstimator\n",
    "class Never5Classifier(BaseEstimator):\n",
    "    def fit(self,X,y=None):\n",
    "        pass\n",
    "    def predict(self, X):\n",
    "        return np.zeros((len(X),1), dtype=bool)"
   ]
  },
  {
   "cell_type": "code",
   "execution_count": 45,
   "id": "b7f49797-ae3c-4b27-9432-546c101fe2a6",
   "metadata": {},
   "outputs": [],
   "source": [
    "never_5_clf = Never5Classifier()"
   ]
  },
  {
   "cell_type": "code",
   "execution_count": 46,
   "id": "2e7c5d94-92b6-442a-8f2b-b4f9d31a6149",
   "metadata": {},
   "outputs": [
    {
     "data": {
      "text/plain": [
       "array([0.91125, 0.90855, 0.90915])"
      ]
     },
     "execution_count": 46,
     "metadata": {},
     "output_type": "execute_result"
    }
   ],
   "source": [
    "cross_val_score(never_5_clf, X_train, y_train_5, cv=3, scoring='accuracy')"
   ]
  },
  {
   "cell_type": "code",
   "execution_count": 47,
   "id": "88f5bd3d-7316-46d7-90ef-fa26b4f2c2f9",
   "metadata": {},
   "outputs": [],
   "source": [
    "# that's right it has over 90% accuracy. This is simply because only about 10% of the images are 5s, so if we guess always image is not 5.\n",
    "# we have 90% of the time"
   ]
  },
  {
   "cell_type": "markdown",
   "id": "7a5de590-cd79-4f22-a6d4-af94a2addfac",
   "metadata": {},
   "source": [
    "#### Confusion matrix"
   ]
  },
  {
   "cell_type": "code",
   "execution_count": 49,
   "id": "05c75b5d-00cf-45a4-98d7-287eaa00f227",
   "metadata": {},
   "outputs": [],
   "source": [
    "from sklearn.model_selection import cross_val_predict\n",
    "y_train_predict = cross_val_predict(sgd_clf, X_train, y_train_5, cv=3)\n",
    "# just like cross_val_score(), cross_val_predict() performs K-fold cross-validation, but instead of returning the evaluation scores, \n",
    "# it returns the repdictions made on each test fold. The menas you get a clean prediction of each instance of the training set."
   ]
  },
  {
   "cell_type": "code",
   "execution_count": 52,
   "id": "a4c4b05c-9d55-424d-b14b-22a8f7819c7e",
   "metadata": {},
   "outputs": [
    {
     "data": {
      "text/plain": [
       "array([[53730,   849],\n",
       "       [ 1324,  4097]])"
      ]
     },
     "execution_count": 52,
     "metadata": {},
     "output_type": "execute_result"
    }
   ],
   "source": [
    "from sklearn.metrics import confusion_matrix\n",
    "confusion_matrix(y_train_5, y_train_predict)"
   ]
  },
  {
   "cell_type": "code",
   "execution_count": 53,
   "id": "6c345cdd-231c-44a8-a889-9308f08fccbe",
   "metadata": {},
   "outputs": [
    {
     "data": {
      "text/plain": [
       "array([[54579,     0],\n",
       "       [    0,  5421]])"
      ]
     },
     "execution_count": 53,
     "metadata": {},
     "output_type": "execute_result"
    }
   ],
   "source": [
    "# each row in confusion matrix represents actual class\n",
    "# each column in confusion matrix represents predicted class\n",
    "y_train_predictions = y_train_5 # pretend we reached perfections\n",
    "confusion_matrix(y_train_5, y_train_predictions)"
   ]
  },
  {
   "cell_type": "markdown",
   "id": "4a20d9c4-f437-480f-a4a7-7ac0acda1dfc",
   "metadata": {},
   "source": [
    "precision = TP / (TP + FP)\n",
    "\n",
    "recall / true positive rate = TP / (TP + FN) --> The ratio of positive instances that are correctly detected by the classifier\n",
    "\n",
    "![](../images/02-confusion-matrix.png)"
   ]
  },
  {
   "cell_type": "code",
   "execution_count": 55,
   "id": "e96fa5de-a69e-4b14-9a4b-2c82acbc7339",
   "metadata": {},
   "outputs": [
    {
     "name": "stdout",
     "output_type": "stream",
     "text": [
      "Precision 0.8283461382935705\n",
      "Recall 0.7557646190739716\n"
     ]
    }
   ],
   "source": [
    "from sklearn.metrics import precision_score, recall_score\n",
    "print(\"Precision\", precision_score(y_train_5, y_train_predict))\n",
    "print(\"Recall\", recall_score(y_train_5, y_train_predict))"
   ]
  },
  {
   "cell_type": "code",
   "execution_count": 56,
   "id": "ae890e9b-66ec-4cf9-9a55-ea20422e5630",
   "metadata": {},
   "outputs": [],
   "source": [
    "# it is convenient to combine precision and recall into a single metric called F1 score. \n",
    "# the F1 score in particular is the harmonic mean of precision and recall\n",
    "# the harmonic mean gives much more weight to low values. \n",
    "# as a result, we get F1 score high, only when both recall and precision is high"
   ]
  },
  {
   "cell_type": "code",
   "execution_count": 57,
   "id": "30643890-67c8-405b-a102-3b1803c4fe06",
   "metadata": {},
   "outputs": [
    {
     "name": "stdout",
     "output_type": "stream",
     "text": [
      "F1 Score 0.7903925918780746\n"
     ]
    }
   ],
   "source": [
    "# f1 = 2 * precision * recall / (precision + recall)\n",
    "from sklearn.metrics import f1_score\n",
    "print(\"F1 Score\", f1_score(y_train_5, y_train_predict))"
   ]
  },
  {
   "cell_type": "markdown",
   "id": "135501fb-6e1f-4be8-98c7-dafcdf6f5581",
   "metadata": {},
   "source": [
    "![Precision Recall Tradeoff](../images/03-precision-recall-tradeoff.png)\n"
   ]
  },
  {
   "cell_type": "code",
   "execution_count": 58,
   "id": "2bb8243b-22d4-4120-82ef-1b07c1b191fc",
   "metadata": {},
   "outputs": [],
   "source": [
    "# raising a threshold decreases recall"
   ]
  },
  {
   "cell_type": "code",
   "execution_count": 59,
   "id": "932b1e3f-5472-4f5a-a2cc-f3cc5a944912",
   "metadata": {},
   "outputs": [],
   "source": [
    "# scikit-learn does not let us to set the threshold directly. we can use decision score and then create our own predict function"
   ]
  },
  {
   "cell_type": "code",
   "execution_count": 64,
   "id": "87b36456-f633-41e0-af30-d62b229c0f31",
   "metadata": {},
   "outputs": [
    {
     "name": "stdout",
     "output_type": "stream",
     "text": [
      "Decision Function scores [-8103.84560071]\n"
     ]
    }
   ],
   "source": [
    "y_scores = sgd_clf.decision_function([some_digit])\n",
    "print(\"Decision Function scores\", y_scores)\n",
    "threshold = 0 # this is default for SGD Classifier\n",
    "y_some_digit_pred = (y_scores > threshold)\n"
   ]
  },
  {
   "cell_type": "code",
   "execution_count": 68,
   "id": "abadbc02-1df3-4143-98e1-1ef7c4fddd78",
   "metadata": {},
   "outputs": [],
   "source": [
    "# how do you decide which treshold to use ?\n",
    "y_scores = cross_val_predict(sgd_clf, X_train, y_train_5,cv=3, method='decision_function')"
   ]
  },
  {
   "cell_type": "code",
   "execution_count": 69,
   "id": "e862cc3f-21e6-4979-bda5-ea9f04c919c3",
   "metadata": {},
   "outputs": [],
   "source": [
    "# with these scores we use precision_recall_curve to compute precision recall for all possible thresholds\n",
    "from sklearn.metrics import precision_recall_curve\n",
    "precision, recall, thresholds = precision_recall_curve(y_train_5, y_scores)"
   ]
  },
  {
   "cell_type": "code",
   "execution_count": 77,
   "id": "13fd3a4e-2035-4813-a1f2-eccd7f22f48a",
   "metadata": {},
   "outputs": [
    {
     "data": {
      "image/png": "[encoded data removed]",
      "text/plain": [
       "<Figure size 432x288 with 1 Axes>"
      ]
     },
     "metadata": {
      "needs_background": "light"
     },
     "output_type": "display_data"
    }
   ],
   "source": [
    "# finally use matplotlib to plot precision and recall as function of the threshold values\n",
    "def plot_precision_recall_vs_thresholds(precision,recall, thresholds):\n",
    "    plt.plot(thresholds, precision[:-1], \"b--\", label=\"Precision\")\n",
    "    plt.plot(thresholds, recall[:-1], \"g-\", label=\"Recall\")\n",
    "    plt.grid(\"on\")\n",
    "    plt.xlabel(\"Threshold\")\n",
    "    plt.legend()\n",
    "\n",
    "plot_precision_recall_vs_thresholds(precision, recall, thresholds)\n",
    "plt.show()"
   ]
  },
  {
   "cell_type": "code",
   "execution_count": 81,
   "id": "7c68f0c2-f156-4d7b-8cd1-46c69e0591d2",
   "metadata": {},
   "outputs": [
    {
     "name": "stdout",
     "output_type": "stream",
     "text": [
      "threshold for 90% precision 2369.135160955669\n"
     ]
    }
   ],
   "source": [
    "# suppose we decide to aim for 90% precision.\n",
    "threshold_90_precision = thresholds[np.argmax(precision >= 0.90)]\n",
    "print(\"threshold for 90% precision\", threshold_90_precision)"
   ]
  },
  {
   "cell_type": "code",
   "execution_count": 82,
   "id": "5a73a0e7-651a-4b81-bd9e-be6fd6e9cfbe",
   "metadata": {},
   "outputs": [],
   "source": [
    "y_train_pred_90 = (y_scores >= threshold_90_precision)"
   ]
  },
  {
   "cell_type": "code",
   "execution_count": 83,
   "id": "f92c2909-b526-4384-91aa-887300cca1af",
   "metadata": {},
   "outputs": [
    {
     "name": "stdout",
     "output_type": "stream",
     "text": [
      "precision score 0.9001791656002047\n",
      "recall score 0.6487732890610588\n"
     ]
    }
   ],
   "source": [
    "# let's check these predictions' precision and recall\n",
    "print(\"precision score\", precision_score(y_train_5, y_train_pred_90))\n",
    "print(\"recall score\", recall_score(y_train_5, y_train_pred_90))"
   ]
  },
  {
   "cell_type": "markdown",
   "id": "49395538-2f26-4a25-9123-e2f0df0def1a",
   "metadata": {},
   "source": [
    "#### The ROC Curve"
   ]
  },
  {
   "cell_type": "code",
   "execution_count": 84,
   "id": "642531d1-9915-4cbe-ba80-956b8115b2fd",
   "metadata": {},
   "outputs": [],
   "source": [
    "# receiver operating characteristics is another common tool used with binary classfication\n",
    "# similary to precision vs recall curver\n",
    "# plot of true posittive rate vs true negative rate\n",
    "# true positive rate is the recall\n",
    "# false positive rate is the ratio of negative instance that are incorrectly classified as positive "
   ]
  },
  {
   "cell_type": "code",
   "execution_count": 85,
   "id": "fa0f58bc-4057-4f3c-acc5-1a582d2a95a1",
   "metadata": {},
   "outputs": [],
   "source": [
    "from sklearn.metrics import roc_curve\n",
    "fpr, tpr, thresholds = roc_curve(y_train_5, y_scores)"
   ]
  },
  {
   "cell_type": "code",
   "execution_count": 87,
   "id": "e4c87455-b5ea-455c-8176-41393e73be9e",
   "metadata": {},
   "outputs": [],
   "source": [
    "def plot_roc_curve(fpr, tpr, label=None):\n",
    "    plt.plot(fpr, tpr, linewidth=2, label=label)\n",
    "    plt.plot([0,1], [0,1], 'k--') # dashed diagnol\n",
    "    plt.grid(\"on\")\n",
    "    plt.xlabel(\"false positive rate\")\n",
    "    plt.ylabel(\"true positive rate\")\n",
    "    plt.show()"
   ]
  },
  {
   "cell_type": "code",
   "execution_count": 88,
   "id": "c28ae16e-ac30-4c24-9ecf-8d5a158608d5",
   "metadata": {},
   "outputs": [
    {
     "data": {
      "image/png": "[encoded data removed]",
      "text/plain": [
       "<Figure size 432x288 with 1 Axes>"
      ]
     },
     "metadata": {
      "needs_background": "light"
     },
     "output_type": "display_data"
    }
   ],
   "source": [
    "plot_roc_curve(fpr, tpr)\n",
    "plt.show()"
   ]
  },
  {
   "cell_type": "code",
   "execution_count": 89,
   "id": "0604201a-b4c6-4c2d-930b-f4c832d61bb9",
   "metadata": {},
   "outputs": [],
   "source": [
    "# once again there is trade off between recall and false positive rate\n",
    "# the dotted line represents purely random classifier\n",
    "# a good classifier stays as far away from this dotted line possible"
   ]
  },
  {
   "cell_type": "code",
   "execution_count": 91,
   "id": "57b538a4-438b-4e2c-98de-c6b9bd1b2bb8",
   "metadata": {},
   "outputs": [
    {
     "data": {
      "text/plain": [
       "0.9647311126740128"
      ]
     },
     "execution_count": 91,
     "metadata": {},
     "output_type": "execute_result"
    }
   ],
   "source": [
    "# one way to compare classifier is the area under the curve\n",
    "from sklearn.metrics import roc_auc_score\n",
    "roc_auc_score(y_train_5, y_scores)"
   ]
  },
  {
   "cell_type": "code",
   "execution_count": 92,
   "id": "49de8385-67df-4ba8-b9d8-1069be9380fa",
   "metadata": {},
   "outputs": [],
   "source": [
    "# let's train a random forest classifier and compare its roc curve and roc_auc_score"
   ]
  },
  {
   "cell_type": "code",
   "execution_count": 93,
   "id": "d7e9b135-f141-46f0-8f35-af6350e4a254",
   "metadata": {},
   "outputs": [],
   "source": [
    "from sklearn.ensemble import RandomForestClassifier"
   ]
  },
  {
   "cell_type": "code",
   "execution_count": 95,
   "id": "446db7e8-1c13-44cd-8ce8-ef5114f8ac94",
   "metadata": {},
   "outputs": [],
   "source": [
    "forest_clf = RandomForestClassifier(random_state=42)\n",
    "y_probas_forest = cross_val_predict(forest_clf, X_train, y_train_5, cv=3, method='predict_proba')"
   ]
  },
  {
   "cell_type": "code",
   "execution_count": 96,
   "id": "0bb31ff9-2c13-438e-b96f-d982fca59652",
   "metadata": {},
   "outputs": [
    {
     "data": {
      "text/plain": [
       "array([[0.11, 0.89],\n",
       "       [0.99, 0.01],\n",
       "       [0.96, 0.04],\n",
       "       ...,\n",
       "       [0.02, 0.98],\n",
       "       [0.92, 0.08],\n",
       "       [0.94, 0.06]])"
      ]
     },
     "execution_count": 96,
     "metadata": {},
     "output_type": "execute_result"
    }
   ],
   "source": [
    "y_probas_forest"
   ]
  },
  {
   "cell_type": "code",
   "execution_count": 98,
   "id": "70e38146-eeaf-44bc-9720-09c100187ecc",
   "metadata": {},
   "outputs": [],
   "source": [
    "y_scores_forest = y_probas_forest[:,1] # score = probability of first class\n",
    "fpr_forest, tpr_forest, thresholds_forest = roc_curve(y_train_5, y_scores_forest)"
   ]
  },
  {
   "cell_type": "code",
   "execution_count": 102,
   "id": "5eb56181-215a-4156-b5ca-e101eed8e435",
   "metadata": {},
   "outputs": [
    {
     "data": {
      "image/png": "[encoded data removed]",
      "text/plain": [
       "<Figure size 432x288 with 1 Axes>"
      ]
     },
     "metadata": {
      "needs_background": "light"
     },
     "output_type": "display_data"
    }
   ],
   "source": [
    "plt.plot(fpr, tpr, \"b:\", label=\"SGD\")\n",
    "plt.plot(fpr_forest, tpr_forest, label=\"Random Forest\")\n",
    "plt.legend(loc=\"lower right\")\n",
    "plt.ylabel(\"true positive rate\")\n",
    "plt.xlabel(\"false positive rate\")\n",
    "plt.grid()\n",
    "plt.show()"
   ]
  },
  {
   "cell_type": "code",
   "execution_count": 103,
   "id": "8d9430db-d08d-44c6-b470-5d595c18baca",
   "metadata": {},
   "outputs": [
    {
     "name": "stdout",
     "output_type": "stream",
     "text": [
      "roc auc score 0.9983436731328145\n"
     ]
    }
   ],
   "source": [
    "print(\"roc auc score\", roc_auc_score(y_train_5, y_scores_forest))"
   ]
  },
  {
   "cell_type": "markdown",
   "id": "2fdc7be2-0fa2-48f8-9d3a-fac9967e5491",
   "metadata": {},
   "source": [
    "## Multiclass Classification"
   ]
  },
  {
   "cell_type": "markdown",
   "id": "a59071ff-2303-4f3f-babe-f1b41d9a2926",
   "metadata": {},
   "source": [
    "multiclass classification can distinguish between more than two classes\n",
    "\n",
    "some algorithms are capable of handling multiclass classification(SGD, Random Forest, Naive). others(SVM, logistic) are strictly binary classifier. "
   ]
  },
  {
   "cell_type": "code",
   "execution_count": 106,
   "id": "10dd2cea-d187-483f-b3e6-2e241dcd8b6e",
   "metadata": {},
   "outputs": [
    {
     "data": {
      "text/plain": [
       "array([2], dtype=uint8)"
      ]
     },
     "execution_count": 106,
     "metadata": {},
     "output_type": "execute_result"
    }
   ],
   "source": [
    "from sklearn.svm import SVC\n",
    "\n",
    "svc_model = SVC() # initiatiate SVC Classifier\n",
    "svc_model.fit(X_train, y_train) # fit the model\n",
    "\n",
    "\n",
    "# predict the model\n",
    "svc_model.predict([some_digit])"
   ]
  },
  {
   "cell_type": "code",
   "execution_count": 107,
   "id": "de55eb33-1824-4748-948c-5ef1bb5f361c",
   "metadata": {},
   "outputs": [],
   "source": [
    "# under the hood SVC uses One Vs One strategy. It trained 45 binary classifiers and got their decision scores"
   ]
  },
  {
   "cell_type": "code",
   "execution_count": 109,
   "id": "25b95af7-c9ff-48b6-8cdf-5fa7ee15fe32",
   "metadata": {},
   "outputs": [
    {
     "name": "stdout",
     "output_type": "stream",
     "text": [
      "some digit scores [[ 2.7442516  -0.30125634  9.31399134  7.26965016  3.75753908  3.74771902\n",
      "   0.71155138  2.76650678  8.2765048   6.21840456]]\n"
     ]
    }
   ],
   "source": [
    "some_digit_scores = svc_model.decision_function([some_digit])\n",
    "print(\"some digit scores\", some_digit_scores)"
   ]
  },
  {
   "cell_type": "code",
   "execution_count": 110,
   "id": "d3016e43-4c5d-48f8-95c5-50e5fa71f06e",
   "metadata": {},
   "outputs": [],
   "source": [
    "# the score is indeed highest for label 2"
   ]
  },
  {
   "cell_type": "code",
   "execution_count": 113,
   "id": "d59c290e-653d-4a5f-b3b2-30eee4808d51",
   "metadata": {},
   "outputs": [
    {
     "data": {
      "text/plain": [
       "2"
      ]
     },
     "execution_count": 113,
     "metadata": {},
     "output_type": "execute_result"
    }
   ],
   "source": [
    "np.argmax(some_digit_scores) # argmax gives the index of the highest value of the list"
   ]
  },
  {
   "cell_type": "code",
   "execution_count": 115,
   "id": "ce198139-a1bf-4f74-ada5-c295c176e312",
   "metadata": {},
   "outputs": [
    {
     "data": {
      "text/plain": [
       "array([0, 1, 2, 3, 4, 5, 6, 7, 8, 9], dtype=uint8)"
      ]
     },
     "execution_count": 115,
     "metadata": {},
     "output_type": "execute_result"
    }
   ],
   "source": [
    "svc_model.classes_"
   ]
  },
  {
   "cell_type": "code",
   "execution_count": 116,
   "id": "799bd44a-7775-49e4-8e6a-2ee48735fabc",
   "metadata": {},
   "outputs": [],
   "source": [
    "# we can force scikit-learn to use either one vs one or one vs rest strategy during multiclass clasification"
   ]
  },
  {
   "cell_type": "code",
   "execution_count": 117,
   "id": "a3fb71e3-5762-40f5-baaf-b39c62f18b5d",
   "metadata": {},
   "outputs": [
    {
     "data": {
      "text/plain": [
       "array([2], dtype=uint8)"
      ]
     },
     "execution_count": 117,
     "metadata": {},
     "output_type": "execute_result"
    }
   ],
   "source": [
    "from sklearn.multiclass import OneVsRestClassifier\n",
    "ovr_clf = OneVsRestClassifier(SVC()) # the SVC will use one vs rest strategy\n",
    "ovr_clf.fit(X_train, y_train)\n",
    "ovr_clf.predict([some_digit])"
   ]
  },
  {
   "cell_type": "code",
   "execution_count": 118,
   "id": "05993d7f-9147-4e24-acce-645d3258199f",
   "metadata": {},
   "outputs": [
    {
     "data": {
      "text/plain": [
       "10"
      ]
     },
     "execution_count": 118,
     "metadata": {},
     "output_type": "execute_result"
    }
   ],
   "source": [
    "len(ovr_clf.estimators_)"
   ]
  },
  {
   "cell_type": "code",
   "execution_count": 119,
   "id": "fb0b9c57-e9d8-4607-bd80-46f9cbfbdfbd",
   "metadata": {},
   "outputs": [
    {
     "data": {
      "text/plain": [
       "SGDClassifier(random_state=12)"
      ]
     },
     "execution_count": 119,
     "metadata": {},
     "output_type": "execute_result"
    }
   ],
   "source": [
    "# training and SGD Classifier\n",
    "sgd_clf.fit(X_train, y_train)"
   ]
  },
  {
   "cell_type": "code",
   "execution_count": 120,
   "id": "1a8dca56-497d-46f7-9daa-dc57edf7627e",
   "metadata": {},
   "outputs": [
    {
     "data": {
      "text/plain": [
       "array([2], dtype=uint8)"
      ]
     },
     "execution_count": 120,
     "metadata": {},
     "output_type": "execute_result"
    }
   ],
   "source": [
    "sgd_clf.predict([some_digit])"
   ]
  },
  {
   "cell_type": "code",
   "execution_count": 121,
   "id": "eca1078a-284d-42f7-ba00-8102b9a01b73",
   "metadata": {},
   "outputs": [
    {
     "data": {
      "text/plain": [
       "array([[ -8364.25363366, -27493.50795184,   5605.95301262,\n",
       "         -9228.04252052, -19945.42485507,  -6922.14935167,\n",
       "        -17675.08145648, -16694.13461057,  -6949.89795695,\n",
       "         -6807.14394891]])"
      ]
     },
     "execution_count": 121,
     "metadata": {},
     "output_type": "execute_result"
    }
   ],
   "source": [
    "# the decision function returns one value per class\n",
    "sgd_clf.decision_function([some_digit])"
   ]
  },
  {
   "cell_type": "code",
   "execution_count": 122,
   "id": "acf2ecd9-adf0-45a4-a7ef-7a1253df4514",
   "metadata": {},
   "outputs": [
    {
     "name": "stdout",
     "output_type": "stream",
     "text": [
      "Cross validationn accuracies [0.87075 0.8922  0.87925]\n"
     ]
    }
   ],
   "source": [
    "# we can use cross_val_score to evaluate SGD accuarcy\n",
    "cv_accuracies = cross_val_score(sgd_clf, X_train, y_train, cv=3, scoring='accuracy')\n",
    "print(\"Cross validationn accuracies\", cv_accuracies)"
   ]
  },
  {
   "cell_type": "code",
   "execution_count": 125,
   "id": "f1893604-fe4e-4aa5-8620-98db1ed3b5cd",
   "metadata": {},
   "outputs": [
    {
     "name": "stdout",
     "output_type": "stream",
     "text": [
      "Cross validationn accuracies [0.9004  0.89625 0.89835]\n"
     ]
    }
   ],
   "source": [
    "# Simple scaling the data will increase the accuracy\n",
    "from sklearn.preprocessing import StandardScaler\n",
    "scaler = StandardScaler()\n",
    "X_train_scaled = scaler.fit_transform(X_train.astype(np.float64))\n",
    "cv_accuracies = cross_val_score(sgd_clf, X_train_scaled, y_train, cv=3, scoring='accuracy')\n",
    "print(\"Cross validationn accuracies\", cv_accuracies)"
   ]
  },
  {
   "cell_type": "markdown",
   "id": "0c2398b7-8bcf-45f6-8663-6e2a8fcbdbf5",
   "metadata": {},
   "source": [
    "#### Error Analysis"
   ]
  },
  {
   "cell_type": "code",
   "execution_count": 126,
   "id": "73d4fe82-69fd-47c9-a7e7-06e659c489db",
   "metadata": {},
   "outputs": [
    {
     "ename": "NameError",
     "evalue": "name 'y_train_scaled' is not defined",
     "output_type": "error",
     "traceback": [
      "\u001b[0;31m---------------------------------------------------------------------------\u001b[0m",
      "\u001b[0;31mNameError\u001b[0m                                 Traceback (most recent call last)",
      "\u001b[0;32m<ipython-input-126-23ade4cfca97>\u001b[0m in \u001b[0;36m<module>\u001b[0;34m\u001b[0m\n\u001b[1;32m      1\u001b[0m \u001b[0my_train_pred\u001b[0m \u001b[0;34m=\u001b[0m \u001b[0mcross_val_predict\u001b[0m\u001b[0;34m(\u001b[0m\u001b[0msgd_clf\u001b[0m\u001b[0;34m,\u001b[0m \u001b[0mX_train_scaled\u001b[0m\u001b[0;34m,\u001b[0m \u001b[0my_train\u001b[0m\u001b[0;34m,\u001b[0m \u001b[0mcv\u001b[0m\u001b[0;34m=\u001b[0m\u001b[0;36m3\u001b[0m\u001b[0;34m)\u001b[0m\u001b[0;34m\u001b[0m\u001b[0;34m\u001b[0m\u001b[0m\n\u001b[0;32m----> 2\u001b[0;31m \u001b[0mconf_matrix\u001b[0m \u001b[0;34m=\u001b[0m \u001b[0mconfusion_matrix\u001b[0m\u001b[0;34m(\u001b[0m\u001b[0my_train\u001b[0m\u001b[0;34m,\u001b[0m \u001b[0my_train_scaled\u001b[0m\u001b[0;34m)\u001b[0m\u001b[0;34m\u001b[0m\u001b[0;34m\u001b[0m\u001b[0m\n\u001b[0m\u001b[1;32m      3\u001b[0m \u001b[0mconf_matrix\u001b[0m\u001b[0;34m\u001b[0m\u001b[0;34m\u001b[0m\u001b[0m\n",
      "\u001b[0;31mNameError\u001b[0m: name 'y_train_scaled' is not defined"
     ]
    }
   ],
   "source": [
    "y_train_pred = cross_val_predict(sgd_clf, X_train_scaled, y_train, cv=3)"
   ]
  },
  {
   "cell_type": "code",
   "execution_count": 129,
   "id": "363c1b6b-fb14-45b4-ba81-1daf5a966387",
   "metadata": {},
   "outputs": [
    {
     "data": {
      "text/plain": [
       "array([[5581,    0,   21,    7,    9,   49,   36,    6,  213,    1],\n",
       "       [   1, 6401,   37,   26,    4,   44,    4,    8,  205,   12],\n",
       "       [  27,   26, 5228,   92,   70,   26,   71,   36,  375,    7],\n",
       "       [  23,   17,  112, 5240,    2,  208,   27,   41,  390,   71],\n",
       "       [  10,   14,   45,   10, 5208,   12,   35,   26,  319,  163],\n",
       "       [  28,   15,   31,  167,   54, 4451,   73,   16,  526,   60],\n",
       "       [  29,   15,   44,    3,   42,   99, 5554,    4,  127,    1],\n",
       "       [  20,    8,   51,   29,   49,   12,    3, 5701,  185,  207],\n",
       "       [  18,   65,   45,   91,    3,  130,   25,   10, 5423,   41],\n",
       "       [  23,   18,   29,   67,  116,   36,    1,  177,  369, 5113]])"
      ]
     },
     "execution_count": 129,
     "metadata": {},
     "output_type": "execute_result"
    }
   ],
   "source": [
    "conf_matrix = confusion_matrix(y_train, y_train_pred)\n",
    "conf_matrix"
   ]
  },
  {
   "cell_type": "code",
   "execution_count": 130,
   "id": "04abe9b8-33ab-4d24-856a-335be52ceccf",
   "metadata": {},
   "outputs": [
    {
     "data": {
      "image/png": "[encoded data removed]",
      "text/plain": [
       "<Figure size 288x288 with 1 Axes>"
      ]
     },
     "metadata": {
      "needs_background": "light"
     },
     "output_type": "display_data"
    }
   ],
   "source": [
    "plt.matshow(conf_matrix, cmap=plt.cm.gray)\n",
    "plt.show()"
   ]
  },
  {
   "cell_type": "code",
   "execution_count": 132,
   "id": "fb6c142d-22b3-490a-b320-94147b115463",
   "metadata": {},
   "outputs": [],
   "source": [
    "# let's focus on the plot on the error\n",
    "row_sums = conf_matrix.sum(axis=1, keepdims=True)\n",
    "norm_conf_matrix = conf_matrix/row_sums"
   ]
  },
  {
   "cell_type": "code",
   "execution_count": 136,
   "id": "595a8062-ffbd-4970-bf64-6f119782a87c",
   "metadata": {},
   "outputs": [
    {
     "data": {
      "image/png": "[encoded data removed]",
      "text/plain": [
       "<Figure size 288x288 with 1 Axes>"
      ]
     },
     "metadata": {
      "needs_background": "light"
     },
     "output_type": "display_data"
    }
   ],
   "source": [
    "# fill the diagnols with zeros to keep only the errors and plot the result\n",
    "np.fill_diagonal(norm_conf_matrix, 0)\n",
    "plt.matshow(norm_conf_matrix, cmap=plt.cm.gray)\n",
    "plt.show()"
   ]
  },
  {
   "cell_type": "markdown",
   "id": "89712657-656d-45b5-9e89-16e8ac25812d",
   "metadata": {},
   "source": [
    "#### Multilabel Classification"
   ]
  },
  {
   "cell_type": "code",
   "execution_count": 151,
   "id": "2ab25612-fe10-41d8-a3da-eed955510e88",
   "metadata": {},
   "outputs": [],
   "source": [
    "# classification system that outputs multiple binary tags is called multilabel classification.\n",
    "# Example: Classifier trained to recognize three people A, B, C. If the image has A and C then output should be [1, 0, 1]"
   ]
  },
  {
   "cell_type": "code",
   "execution_count": 154,
   "id": "517d0b0c-a2df-45d3-b7ef-40ead6170503",
   "metadata": {},
   "outputs": [
    {
     "data": {
      "text/plain": [
       "KNeighborsClassifier()"
      ]
     },
     "execution_count": 154,
     "metadata": {},
     "output_type": "execute_result"
    }
   ],
   "source": [
    "from sklearn.neighbors import KNeighborsClassifier\n",
    "\n",
    "y_train_large = (y_train >= 7)\n",
    "y_train_odd = (y_train % 2 == 1)\n",
    "y_multilabel = np.c_[y_train_large, y_train_odd]\n",
    "\n",
    "knn_clf = KNeighborsClassifier()\n",
    "knn_clf.fit(X_train, y_multilabel)"
   ]
  },
  {
   "cell_type": "code",
   "execution_count": 155,
   "id": "6271b7a3-ce88-4cfc-890c-761747594663",
   "metadata": {},
   "outputs": [
    {
     "data": {
      "text/plain": [
       "array([[False, False]])"
      ]
     },
     "execution_count": 155,
     "metadata": {},
     "output_type": "execute_result"
    }
   ],
   "source": [
    "knn_clf.predict([some_digit])"
   ]
  },
  {
   "cell_type": "code",
   "execution_count": 157,
   "id": "04f21bc5-8e4b-4f6d-a0c0-1ac5c2b47ad9",
   "metadata": {},
   "outputs": [],
   "source": [
    "y_train_knn_pred = cross_val_predict(knn_clf, X_train, y_multilabel, cv=3)"
   ]
  },
  {
   "cell_type": "code",
   "execution_count": 158,
   "id": "a09d1a0a-d480-4319-b0d7-da3082fa1fcd",
   "metadata": {},
   "outputs": [
    {
     "data": {
      "text/plain": [
       "0.976410265560605"
      ]
     },
     "execution_count": 158,
     "metadata": {},
     "output_type": "execute_result"
    }
   ],
   "source": [
    "f1_score(y_multilabel, y_train_knn_pred, average='macro') # we can also set average='weighted' based on the project"
   ]
  },
  {
   "cell_type": "markdown",
   "id": "cb9a282a-8410-4ea0-9c6e-dc0a3a77c843",
   "metadata": {},
   "source": [
    "#### Multioutput Classification"
   ]
  },
  {
   "cell_type": "code",
   "execution_count": 127,
   "id": "7eb6c3e3-9270-4263-9c76-622eded80183",
   "metadata": {},
   "outputs": [],
   "source": [
    "# it simply means each label can be multiclass"
   ]
  },
  {
   "cell_type": "code",
   "execution_count": 165,
   "id": "9247fdff-a29a-40d3-93bb-b556ed56a67c",
   "metadata": {},
   "outputs": [],
   "source": [
    "noise = np.random.randint(0, 100, (len(X_train), 784))\n",
    "X_train_mod = X_train + noise\n",
    "noise = np.random.randint(0, 100, (len(X_test), 784))\n",
    "X_test_mod = X_test + noise\n",
    "y_train_mod = X_train\n",
    "y_test_mod = y_test "
   ]
  },
  {
   "cell_type": "code",
   "execution_count": 169,
   "id": "1f9b318f-1f2d-4337-a4ca-5d385032ad34",
   "metadata": {},
   "outputs": [],
   "source": [
    "def plot_digit(data):\n",
    "    image = data.reshape(28, 28)\n",
    "    plt.imshow(image, cmap = mpl.cm.binary,\n",
    "               interpolation=\"nearest\")\n",
    "    plt.axis(\"off\")"
   ]
  },
  {
   "cell_type": "code",
   "execution_count": 170,
   "id": "868217e6-fba0-43b7-aea0-67ede05f29fe",
   "metadata": {},
   "outputs": [],
   "source": [
    "knn_clf.fit(X_train_mod, y_train_mod)\n",
    "clean_digit = knn_clf.predict([X_test_mod[1]])"
   ]
  },
  {
   "cell_type": "code",
   "execution_count": 171,
   "id": "98d7b38d-d57b-4dc3-838b-122b69ef73d9",
   "metadata": {},
   "outputs": [
    {
     "data": {
      "image/png": "[encoded data removed]",
      "text/plain": [
       "<Figure size 432x288 with 1 Axes>"
      ]
     },
     "metadata": {
      "needs_background": "light"
     },
     "output_type": "display_data"
    }
   ],
   "source": [
    "plot_digit(clean_digit)\n",
    "plt.show()"
   ]
  }
 ],
 "metadata": {
  "kernelspec": {
   "display_name": "Python 3",
   "language": "python",
   "name": "python3"
  },
  "language_info": {
   "codemirror_mode": {
    "name": "ipython",
    "version": 3
   },
   "file_extension": ".py",
   "mimetype": "text/x-python",
   "name": "python",
   "nbconvert_exporter": "python",
   "pygments_lexer": "ipython3",
   "version": "3.6.9"
  }
 },
 "nbformat": 4,
 "nbformat_minor": 5
}
